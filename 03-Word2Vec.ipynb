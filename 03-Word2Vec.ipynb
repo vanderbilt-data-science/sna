{
  "nbformat": 4,
  "nbformat_minor": 0,
  "metadata": {
    "colab": {
      "name": "Word2Vec.ipynb",
      "provenance": [],
      "collapsed_sections": []
    },
    "kernelspec": {
      "name": "python3",
      "display_name": "Python 3"
    },
    "language_info": {
      "name": "python"
    }
  },
  "cells": [
    {
      "cell_type": "code",
      "execution_count": 1,
      "metadata": {
        "id": "48uXTCu0AdBu",
        "colab": {
          "base_uri": "https://localhost:8080/"
        },
        "outputId": "ed68a140-6e29-4b3b-b251-63b3ab37dc78"
      },
      "outputs": [
        {
          "output_type": "stream",
          "name": "stdout",
          "text": [
            "Mounted at /content/gdrive\n",
            "/content/gdrive/My Drive/Lastsemester/Social_Network_Analysis/project\n"
          ]
        }
      ],
      "source": [
        "from google.colab import drive\n",
        "drive.mount('/content/gdrive')\n",
        "%cd /content/gdrive/My\\ Drive/Lastsemester/Social_Network_Analysis/project"
      ]
    },
    {
      "cell_type": "code",
      "source": [
        "!pip install pyspark\n",
        "!pip install -U -q PyDrive\n",
        "!apt install openjdk-8-jdk-headless -qq\n",
        "import os\n",
        "os.environ[\"JAVA_HOME\"] = \"/usr/lib/jvm/java-8-openjdk-amd64\""
      ],
      "metadata": {
        "id": "5YE6prUchlVc"
      },
      "execution_count": null,
      "outputs": []
    },
    {
      "cell_type": "code",
      "source": [
        "import pandas as pd\n",
        "import numpy as np\n",
        "\n",
        "d = {'product_id': ['B0188A3QRM', 'B075VXJ9VG'], \n",
        "     'product_title': ['Amazon Basics Woodcased #2 Pencils, Unsharpened', 'BAZIC Pencil #2 HB Pencils, Latex Free Eraser'],\n",
        "     'product_description': [np.NaN, '<p><strong>BACK TO BAZIC</strong></p><p>Our go'], \n",
        "     'product_bullet_point': ['144 woodcase #2 HB pencils made from high-quality', '&#11088; UN-SHARPENED #2 PREMIUM PENCILS.'],\n",
        "     'product_brand': ['Amazon Basics\t', 'BAZIC Products\t'],\n",
        "     'product_color_name': [ 'Yellow', '12-count'],\n",
        "     'product_locale': [ 'us', 'us']}\n",
        "df = pd.DataFrame(data=d)\n",
        "\n",
        "# add \".astype(str)\" \n",
        "df['Combined'] = df['product_title'].astype(str) + ', ' + df['product_description'].astype(str) + ', ' + df['product_bullet_point'].astype(str)  + ', ' + df['product_brand'].astype(str) + ', ' + df['product_color_name'].astype(str) + ', ' + df['product_locale'].astype(str)\n",
        "df = pd.DataFrame(data=df)\n",
        "s = df['Combined']\n",
        "df\n",
        "\n"
      ],
      "metadata": {
        "id": "NHwc0fo6iw7g"
      },
      "execution_count": null,
      "outputs": []
    },
    {
      "cell_type": "code",
      "source": [
        ""
      ],
      "metadata": {
        "id": "F9kZHhtHtuGZ"
      },
      "execution_count": null,
      "outputs": []
    },
    {
      "cell_type": "markdown",
      "source": [
        "# pass in the real data here, as \"df\""
      ],
      "metadata": {
        "id": "M2u_S1I8tuWK"
      }
    },
    {
      "cell_type": "code",
      "source": [
        "from pyspark.sql import SparkSession\n",
        "spark = SparkSession.builder.appName('wk7_lr').getOrCreate()\n",
        "\n",
        "from pyspark.sql.types import StructType,StructField, StringType, IntegerType\n",
        "\n",
        "schema = StructType([ \\\n",
        "    StructField(\"product_id\",StringType(),True), \\\n",
        "    StructField(\"product_title\",StringType(),True), \\\n",
        "    StructField(\"product_description\",StringType(),True), \\\n",
        "    StructField(\"product_bullet_point\", StringType(), True), \\\n",
        "    StructField(\"product_brand\", StringType(), True), \\\n",
        "    StructField(\"product_color_name\", StringType(), True), \\\n",
        "    StructField(\"product_locale\", StringType(), True), \\\n",
        "    StructField(\"Combined\", StringType(), True) \\\n",
        "  ])\n",
        "sparkDF=spark.createDataFrame(df, schema = schema) \n",
        "\n"
      ],
      "metadata": {
        "id": "KvfVq2spq-nv"
      },
      "execution_count": 42,
      "outputs": []
    },
    {
      "cell_type": "code",
      "source": [
        "sparkDF.show()"
      ],
      "metadata": {
        "colab": {
          "base_uri": "https://localhost:8080/"
        },
        "id": "zF9UXkLHqdGo",
        "outputId": "83f3cfad-ccac-4bea-867e-e37904c2b8a5"
      },
      "execution_count": 31,
      "outputs": [
        {
          "output_type": "stream",
          "name": "stdout",
          "text": [
            "+----------+--------------------+--------------------+--------------------+----------------+------------------+--------------+--------------------+\n",
            "|product_id|       product_title| product_description|product_bullet_point|   product_brand|product_color_name|product_locale|            Combined|\n",
            "+----------+--------------------+--------------------+--------------------+----------------+------------------+--------------+--------------------+\n",
            "|B0188A3QRM|Amazon Basics Woo...|                 NaN|144 woodcase #2 H...| Amazon Basics\\t|            Yellow|            us|Amazon Basics Woo...|\n",
            "|B075VXJ9VG|BAZIC Pencil #2 H...|<p><strong>BACK T...|&#11088; UN-SHARP...|BAZIC Products\\t|          12-count|            us|BAZIC Pencil #2 H...|\n",
            "+----------+--------------------+--------------------+--------------------+----------------+------------------+--------------+--------------------+\n",
            "\n"
          ]
        }
      ]
    },
    {
      "cell_type": "code",
      "source": [
        "from pyspark.ml.feature import HashingTF, IDF, Tokenizer\n",
        "\n",
        "tokenizer = Tokenizer(inputCol=\"Combined\", outputCol=\"words\")\n",
        "wordsData = tokenizer.transform(sparkDF)\n",
        "wordsData.show(truncate=False)\n",
        "\n"
      ],
      "metadata": {
        "colab": {
          "base_uri": "https://localhost:8080/"
        },
        "id": "QX5LO27gr6x3",
        "outputId": "4362c17e-2d71-4a25-8d63-ff444e74c2a5"
      },
      "execution_count": 37,
      "outputs": [
        {
          "output_type": "stream",
          "name": "stdout",
          "text": [
            "+----------+-----------------------------------------------+----------------------------------------------+-------------------------------------------------+----------------+------------------+--------------+------------------------------------------------------------------------------------------------------------------------------------------------------------------------+----------------------------------------------------------------------------------------------------------------------------------------------------------------------------------------------+\n",
            "|product_id|product_title                                  |product_description                           |product_bullet_point                             |product_brand   |product_color_name|product_locale|Combined                                                                                                                                                                |words                                                                                                                                                                                         |\n",
            "+----------+-----------------------------------------------+----------------------------------------------+-------------------------------------------------+----------------+------------------+--------------+------------------------------------------------------------------------------------------------------------------------------------------------------------------------+----------------------------------------------------------------------------------------------------------------------------------------------------------------------------------------------+\n",
            "|B0188A3QRM|Amazon Basics Woodcased #2 Pencils, Unsharpened|NaN                                           |144 woodcase #2 HB pencils made from high-quality|Amazon Basics\\t |Yellow            |us            |Amazon Basics Woodcased #2 Pencils, Unsharpened, nan, 144 woodcase #2 HB pencils made from high-quality, Amazon Basics\\t, Yellow, us                                    |[amazon, basics, woodcased, #2, pencils,, unsharpened,, nan,, 144, woodcase, #2, hb, pencils, made, from, high-quality,, amazon, basics, ,, yellow,, us]                                      |\n",
            "|B075VXJ9VG|BAZIC Pencil #2 HB Pencils, Latex Free Eraser  |<p><strong>BACK TO BAZIC</strong></p><p>Our go|&#11088; UN-SHARPENED #2 PREMIUM PENCILS.        |BAZIC Products\\t|12-count          |us            |BAZIC Pencil #2 HB Pencils, Latex Free Eraser, <p><strong>BACK TO BAZIC</strong></p><p>Our go, &#11088; UN-SHARPENED #2 PREMIUM PENCILS., BAZIC Products\\t, 12-count, us|[bazic, pencil, #2, hb, pencils,, latex, free, eraser,, <p><strong>back, to, bazic</strong></p><p>our, go,, &#11088;, un-sharpened, #2, premium, pencils.,, bazic, products, ,, 12-count,, us]|\n",
            "+----------+-----------------------------------------------+----------------------------------------------+-------------------------------------------------+----------------+------------------+--------------+------------------------------------------------------------------------------------------------------------------------------------------------------------------------+----------------------------------------------------------------------------------------------------------------------------------------------------------------------------------------------+\n",
            "\n"
          ]
        }
      ]
    },
    {
      "cell_type": "code",
      "source": [
        "from pyspark.ml.feature import Word2Vec\n",
        "\n",
        "word2Vec = Word2Vec(vectorSize=10, minCount=0, inputCol=\"words\", outputCol=\"result\")\n",
        "model = word2Vec.fit(wordsData)\n",
        "\n",
        "result = model.transform(wordsData)\n",
        "result.show(truncate=False)\n"
      ],
      "metadata": {
        "colab": {
          "base_uri": "https://localhost:8080/"
        },
        "id": "mZkmAecQbkQG",
        "outputId": "391f11ad-7c62-41f2-f155-35736d371b11"
      },
      "execution_count": 41,
      "outputs": [
        {
          "output_type": "stream",
          "name": "stdout",
          "text": [
            "+----------+-----------------------------------------------+----------------------------------------------+-------------------------------------------------+----------------+------------------+--------------+------------------------------------------------------------------------------------------------------------------------------------------------------------------------+----------------------------------------------------------------------------------------------------------------------------------------------------------------------------------------------+-------------------------------------------------------------------------------------------------------------------------------------------------------------------------------------------------------------------------------+\n",
            "|product_id|product_title                                  |product_description                           |product_bullet_point                             |product_brand   |product_color_name|product_locale|Combined                                                                                                                                                                |words                                                                                                                                                                                         |result                                                                                                                                                                                                                         |\n",
            "+----------+-----------------------------------------------+----------------------------------------------+-------------------------------------------------+----------------+------------------+--------------+------------------------------------------------------------------------------------------------------------------------------------------------------------------------+----------------------------------------------------------------------------------------------------------------------------------------------------------------------------------------------+-------------------------------------------------------------------------------------------------------------------------------------------------------------------------------------------------------------------------------+\n",
            "|B0188A3QRM|Amazon Basics Woodcased #2 Pencils, Unsharpened|NaN                                           |144 woodcase #2 HB pencils made from high-quality|Amazon Basics\\t |Yellow            |us            |Amazon Basics Woodcased #2 Pencils, Unsharpened, nan, 144 woodcase #2 HB pencils made from high-quality, Amazon Basics\\t, Yellow, us                                    |[amazon, basics, woodcased, #2, pencils,, unsharpened,, nan,, 144, woodcase, #2, hb, pencils, made, from, high-quality,, amazon, basics, ,, yellow,, us]                                      |[-0.0035891807754524054,0.0020733260433189573,0.00484064049232984,-5.992451915517449E-4,-0.0038645230320980776,0.001608861505519599,-0.00787089867517352,0.0020700607681646945,-0.010363628412596882,-0.008811529772356153]    |\n",
            "|B075VXJ9VG|BAZIC Pencil #2 HB Pencils, Latex Free Eraser  |<p><strong>BACK TO BAZIC</strong></p><p>Our go|&#11088; UN-SHARPENED #2 PREMIUM PENCILS.        |BAZIC Products\\t|12-count          |us            |BAZIC Pencil #2 HB Pencils, Latex Free Eraser, <p><strong>BACK TO BAZIC</strong></p><p>Our go, &#11088; UN-SHARPENED #2 PREMIUM PENCILS., BAZIC Products\\t, 12-count, us|[bazic, pencil, #2, hb, pencils,, latex, free, eraser,, <p><strong>back, to, bazic</strong></p><p>our, go,, &#11088;, un-sharpened, #2, premium, pencils.,, bazic, products, ,, 12-count,, us]|[0.005792940141294491,-0.0023762840110893276,0.012012205680631187,0.0032373054842041297,-0.003406081623821096,1.4293810289183801E-4,-3.5398365633392876E-4,0.0015059259444983168,-0.0010258399829167915,-0.0013854144014079463]|\n",
            "+----------+-----------------------------------------------+----------------------------------------------+-------------------------------------------------+----------------+------------------+--------------+------------------------------------------------------------------------------------------------------------------------------------------------------------------------+----------------------------------------------------------------------------------------------------------------------------------------------------------------------------------------------+-------------------------------------------------------------------------------------------------------------------------------------------------------------------------------------------------------------------------------+\n",
            "\n"
          ]
        }
      ]
    }
  ]
}