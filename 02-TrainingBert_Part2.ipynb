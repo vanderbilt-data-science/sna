{
  "nbformat": 4,
  "nbformat_minor": 0,
  "metadata": {
    "colab": {
      "name": "TrainingBert.ipynb",
      "provenance": []
    },
    "kernelspec": {
      "name": "python3",
      "display_name": "Python 3"
    },
    "language_info": {
      "name": "python"
    }
  },
  "cells": [
    {
      "cell_type": "code",
      "execution_count": 1,
      "metadata": {
        "colab": {
          "base_uri": "https://localhost:8080/"
        },
        "id": "ihl6mJV3heT7",
        "outputId": "e3520062-b05b-49a7-edc8-79a72a90c3ab"
      },
      "outputs": [
        {
          "output_type": "stream",
          "name": "stdout",
          "text": [
            "Mounted at /content/gdrive\n",
            "/content/gdrive/My Drive/Lastsemester/Social_Network_Analysis/project\n"
          ]
        }
      ],
      "source": [
        "from google.colab import drive\n",
        "drive.mount('/content/gdrive')\n",
        "%cd /content/gdrive/My\\ Drive/Lastsemester/Social_Network_Analysis/project"
      ]
    },
    {
      "cell_type": "code",
      "source": [
        "# Importing modules\n",
        "import pandas as pd\n",
        "import numpy as np"
      ],
      "metadata": {
        "id": "nxWQMccKhw7D"
      },
      "execution_count": 2,
      "outputs": []
    },
    {
      "cell_type": "code",
      "source": [
        "! pip install transformers\n",
        "\n",
        "from transformers import AutoModel\n",
        "from transformers import AutoTokenizer\n",
        "import torch\n",
        "\n",
        "model_ckpt = \"distilbert-base-uncased\"\n",
        "device = torch.device(\"cuda\" if torch.cuda.is_available() else \"cpu\")\n",
        "model = AutoModel.from_pretrained(model_ckpt).to(device)\n",
        "tokenizer = AutoTokenizer.from_pretrained(model_ckpt)"
      ],
      "metadata": {
        "id": "TIQyP2MLh_KU"
      },
      "execution_count": null,
      "outputs": []
    },
    {
      "cell_type": "code",
      "source": [
        ""
      ],
      "metadata": {
        "id": "NUBenHaaDlpO"
      },
      "execution_count": null,
      "outputs": []
    },
    {
      "cell_type": "markdown",
      "source": [
        "# Practice Dataset"
      ],
      "metadata": {
        "id": "PO3R11MaDmCm"
      }
    },
    {
      "cell_type": "code",
      "source": [
        "d = {'product_id': ['B0188A3QRM', 'B075VXJ9VG'], \n",
        "     'product_title': ['Amazon Basics Woodcased #2 Pencils, Unsharpened', 'BAZIC Pencil #2 HB Pencils, Latex Free Eraser'],\n",
        "     'product_description': [np.NaN, '<p><strong>BACK TO BAZIC</strong></p><p>Our go'], \n",
        "     'product_bullet_point': ['144 woodcase #2 HB pencils made from high-quality', '&#11088; UN-SHARPENED #2 PREMIUM PENCILS.'],\n",
        "     'product_brand': ['Amazon Basics\t', 'BAZIC Products\t'],\n",
        "     'product_color_name': [ 'Yellow', '12-count'],\n",
        "     'product_locale': [ 'us', 'us']}\n",
        "df = pd.DataFrame(data=d)"
      ],
      "metadata": {
        "id": "F8CkRYJyDnCt"
      },
      "execution_count": 140,
      "outputs": []
    },
    {
      "cell_type": "code",
      "source": [
        "# add \".astype(str)\" \n",
        "df['Combined'] = df['product_title'].astype(str) + ', ' + df['product_description'].astype(str) + ', ' + df['product_bullet_point'].astype(str)  + ', ' + df['product_brand'].astype(str) + ', ' + df['product_color_name'].astype(str) + ', ' + df['product_locale'].astype(str)\n",
        "df = pd.DataFrame(data=df)\n",
        "df\n",
        "\n"
      ],
      "metadata": {
        "id": "ZIoCjvBIEYsl",
        "colab": {
          "base_uri": "https://localhost:8080/",
          "height": 315
        },
        "outputId": "09a864e4-5ea8-4126-ebb4-9db7e63bdad0"
      },
      "execution_count": 141,
      "outputs": [
        {
          "output_type": "execute_result",
          "data": {
            "text/plain": [
              "   product_id                                    product_title  \\\n",
              "0  B0188A3QRM  Amazon Basics Woodcased #2 Pencils, Unsharpened   \n",
              "1  B075VXJ9VG    BAZIC Pencil #2 HB Pencils, Latex Free Eraser   \n",
              "\n",
              "                              product_description  \\\n",
              "0                                             NaN   \n",
              "1  <p><strong>BACK TO BAZIC</strong></p><p>Our go   \n",
              "\n",
              "                                product_bullet_point     product_brand  \\\n",
              "0  144 woodcase #2 HB pencils made from high-quality   Amazon Basics\\t   \n",
              "1          &#11088; UN-SHARPENED #2 PREMIUM PENCILS.  BAZIC Products\\t   \n",
              "\n",
              "  product_color_name product_locale  \\\n",
              "0             Yellow             us   \n",
              "1           12-count             us   \n",
              "\n",
              "                                            Combined  \n",
              "0  Amazon Basics Woodcased #2 Pencils, Unsharpene...  \n",
              "1  BAZIC Pencil #2 HB Pencils, Latex Free Eraser,...  "
            ],
            "text/html": [
              "\n",
              "  <div id=\"df-2a9ad445-0550-4e1b-a37f-fb3caa9d7279\">\n",
              "    <div class=\"colab-df-container\">\n",
              "      <div>\n",
              "<style scoped>\n",
              "    .dataframe tbody tr th:only-of-type {\n",
              "        vertical-align: middle;\n",
              "    }\n",
              "\n",
              "    .dataframe tbody tr th {\n",
              "        vertical-align: top;\n",
              "    }\n",
              "\n",
              "    .dataframe thead th {\n",
              "        text-align: right;\n",
              "    }\n",
              "</style>\n",
              "<table border=\"1\" class=\"dataframe\">\n",
              "  <thead>\n",
              "    <tr style=\"text-align: right;\">\n",
              "      <th></th>\n",
              "      <th>product_id</th>\n",
              "      <th>product_title</th>\n",
              "      <th>product_description</th>\n",
              "      <th>product_bullet_point</th>\n",
              "      <th>product_brand</th>\n",
              "      <th>product_color_name</th>\n",
              "      <th>product_locale</th>\n",
              "      <th>Combined</th>\n",
              "    </tr>\n",
              "  </thead>\n",
              "  <tbody>\n",
              "    <tr>\n",
              "      <th>0</th>\n",
              "      <td>B0188A3QRM</td>\n",
              "      <td>Amazon Basics Woodcased #2 Pencils, Unsharpened</td>\n",
              "      <td>NaN</td>\n",
              "      <td>144 woodcase #2 HB pencils made from high-quality</td>\n",
              "      <td>Amazon Basics\\t</td>\n",
              "      <td>Yellow</td>\n",
              "      <td>us</td>\n",
              "      <td>Amazon Basics Woodcased #2 Pencils, Unsharpene...</td>\n",
              "    </tr>\n",
              "    <tr>\n",
              "      <th>1</th>\n",
              "      <td>B075VXJ9VG</td>\n",
              "      <td>BAZIC Pencil #2 HB Pencils, Latex Free Eraser</td>\n",
              "      <td>&lt;p&gt;&lt;strong&gt;BACK TO BAZIC&lt;/strong&gt;&lt;/p&gt;&lt;p&gt;Our go</td>\n",
              "      <td>&amp;#11088; UN-SHARPENED #2 PREMIUM PENCILS.</td>\n",
              "      <td>BAZIC Products\\t</td>\n",
              "      <td>12-count</td>\n",
              "      <td>us</td>\n",
              "      <td>BAZIC Pencil #2 HB Pencils, Latex Free Eraser,...</td>\n",
              "    </tr>\n",
              "  </tbody>\n",
              "</table>\n",
              "</div>\n",
              "      <button class=\"colab-df-convert\" onclick=\"convertToInteractive('df-2a9ad445-0550-4e1b-a37f-fb3caa9d7279')\"\n",
              "              title=\"Convert this dataframe to an interactive table.\"\n",
              "              style=\"display:none;\">\n",
              "        \n",
              "  <svg xmlns=\"http://www.w3.org/2000/svg\" height=\"24px\"viewBox=\"0 0 24 24\"\n",
              "       width=\"24px\">\n",
              "    <path d=\"M0 0h24v24H0V0z\" fill=\"none\"/>\n",
              "    <path d=\"M18.56 5.44l.94 2.06.94-2.06 2.06-.94-2.06-.94-.94-2.06-.94 2.06-2.06.94zm-11 1L8.5 8.5l.94-2.06 2.06-.94-2.06-.94L8.5 2.5l-.94 2.06-2.06.94zm10 10l.94 2.06.94-2.06 2.06-.94-2.06-.94-.94-2.06-.94 2.06-2.06.94z\"/><path d=\"M17.41 7.96l-1.37-1.37c-.4-.4-.92-.59-1.43-.59-.52 0-1.04.2-1.43.59L10.3 9.45l-7.72 7.72c-.78.78-.78 2.05 0 2.83L4 21.41c.39.39.9.59 1.41.59.51 0 1.02-.2 1.41-.59l7.78-7.78 2.81-2.81c.8-.78.8-2.07 0-2.86zM5.41 20L4 18.59l7.72-7.72 1.47 1.35L5.41 20z\"/>\n",
              "  </svg>\n",
              "      </button>\n",
              "      \n",
              "  <style>\n",
              "    .colab-df-container {\n",
              "      display:flex;\n",
              "      flex-wrap:wrap;\n",
              "      gap: 12px;\n",
              "    }\n",
              "\n",
              "    .colab-df-convert {\n",
              "      background-color: #E8F0FE;\n",
              "      border: none;\n",
              "      border-radius: 50%;\n",
              "      cursor: pointer;\n",
              "      display: none;\n",
              "      fill: #1967D2;\n",
              "      height: 32px;\n",
              "      padding: 0 0 0 0;\n",
              "      width: 32px;\n",
              "    }\n",
              "\n",
              "    .colab-df-convert:hover {\n",
              "      background-color: #E2EBFA;\n",
              "      box-shadow: 0px 1px 2px rgba(60, 64, 67, 0.3), 0px 1px 3px 1px rgba(60, 64, 67, 0.15);\n",
              "      fill: #174EA6;\n",
              "    }\n",
              "\n",
              "    [theme=dark] .colab-df-convert {\n",
              "      background-color: #3B4455;\n",
              "      fill: #D2E3FC;\n",
              "    }\n",
              "\n",
              "    [theme=dark] .colab-df-convert:hover {\n",
              "      background-color: #434B5C;\n",
              "      box-shadow: 0px 1px 3px 1px rgba(0, 0, 0, 0.15);\n",
              "      filter: drop-shadow(0px 1px 2px rgba(0, 0, 0, 0.3));\n",
              "      fill: #FFFFFF;\n",
              "    }\n",
              "  </style>\n",
              "\n",
              "      <script>\n",
              "        const buttonEl =\n",
              "          document.querySelector('#df-2a9ad445-0550-4e1b-a37f-fb3caa9d7279 button.colab-df-convert');\n",
              "        buttonEl.style.display =\n",
              "          google.colab.kernel.accessAllowed ? 'block' : 'none';\n",
              "\n",
              "        async function convertToInteractive(key) {\n",
              "          const element = document.querySelector('#df-2a9ad445-0550-4e1b-a37f-fb3caa9d7279');\n",
              "          const dataTable =\n",
              "            await google.colab.kernel.invokeFunction('convertToInteractive',\n",
              "                                                     [key], {});\n",
              "          if (!dataTable) return;\n",
              "\n",
              "          const docLinkHtml = 'Like what you see? Visit the ' +\n",
              "            '<a target=\"_blank\" href=https://colab.research.google.com/notebooks/data_table.ipynb>data table notebook</a>'\n",
              "            + ' to learn more about interactive tables.';\n",
              "          element.innerHTML = '';\n",
              "          dataTable['output_type'] = 'display_data';\n",
              "          await google.colab.output.renderOutput(dataTable, element);\n",
              "          const docLink = document.createElement('div');\n",
              "          docLink.innerHTML = docLinkHtml;\n",
              "          element.appendChild(docLink);\n",
              "        }\n",
              "      </script>\n",
              "    </div>\n",
              "  </div>\n",
              "  "
            ]
          },
          "metadata": {},
          "execution_count": 141
        }
      ]
    },
    {
      "cell_type": "markdown",
      "source": [
        "# Breaking up each entry to lists of 512 max"
      ],
      "metadata": {
        "id": "VUuaxf_JhO3W"
      }
    },
    {
      "cell_type": "markdown",
      "source": [
        "Breaks up each entry in the \"Combined\" column to sets of 50 (change to 512)"
      ],
      "metadata": {
        "id": "fJzZtUytrrkn"
      }
    },
    {
      "cell_type": "code",
      "source": [
        "broken_text = []\n",
        "s = df['Combined']\n",
        "for text in s:\n",
        "  n = 50\n",
        "  a = [text[i:i+n] for i in range(0, len(text), n)]\n",
        "  broken_text.append(a)\n",
        "#broken_text\n",
        "df"
      ],
      "metadata": {
        "colab": {
          "base_uri": "https://localhost:8080/",
          "height": 315
        },
        "id": "LwK1Q0nkkiZN",
        "outputId": "77e3adb5-60c0-4da4-a71a-30274dfb4aab"
      },
      "execution_count": 142,
      "outputs": [
        {
          "output_type": "execute_result",
          "data": {
            "text/plain": [
              "   product_id                                    product_title  \\\n",
              "0  B0188A3QRM  Amazon Basics Woodcased #2 Pencils, Unsharpened   \n",
              "1  B075VXJ9VG    BAZIC Pencil #2 HB Pencils, Latex Free Eraser   \n",
              "\n",
              "                              product_description  \\\n",
              "0                                             NaN   \n",
              "1  <p><strong>BACK TO BAZIC</strong></p><p>Our go   \n",
              "\n",
              "                                product_bullet_point     product_brand  \\\n",
              "0  144 woodcase #2 HB pencils made from high-quality   Amazon Basics\\t   \n",
              "1          &#11088; UN-SHARPENED #2 PREMIUM PENCILS.  BAZIC Products\\t   \n",
              "\n",
              "  product_color_name product_locale  \\\n",
              "0             Yellow             us   \n",
              "1           12-count             us   \n",
              "\n",
              "                                            Combined  \n",
              "0  Amazon Basics Woodcased #2 Pencils, Unsharpene...  \n",
              "1  BAZIC Pencil #2 HB Pencils, Latex Free Eraser,...  "
            ],
            "text/html": [
              "\n",
              "  <div id=\"df-c1b59175-702d-4609-bfb1-472f987b3b65\">\n",
              "    <div class=\"colab-df-container\">\n",
              "      <div>\n",
              "<style scoped>\n",
              "    .dataframe tbody tr th:only-of-type {\n",
              "        vertical-align: middle;\n",
              "    }\n",
              "\n",
              "    .dataframe tbody tr th {\n",
              "        vertical-align: top;\n",
              "    }\n",
              "\n",
              "    .dataframe thead th {\n",
              "        text-align: right;\n",
              "    }\n",
              "</style>\n",
              "<table border=\"1\" class=\"dataframe\">\n",
              "  <thead>\n",
              "    <tr style=\"text-align: right;\">\n",
              "      <th></th>\n",
              "      <th>product_id</th>\n",
              "      <th>product_title</th>\n",
              "      <th>product_description</th>\n",
              "      <th>product_bullet_point</th>\n",
              "      <th>product_brand</th>\n",
              "      <th>product_color_name</th>\n",
              "      <th>product_locale</th>\n",
              "      <th>Combined</th>\n",
              "    </tr>\n",
              "  </thead>\n",
              "  <tbody>\n",
              "    <tr>\n",
              "      <th>0</th>\n",
              "      <td>B0188A3QRM</td>\n",
              "      <td>Amazon Basics Woodcased #2 Pencils, Unsharpened</td>\n",
              "      <td>NaN</td>\n",
              "      <td>144 woodcase #2 HB pencils made from high-quality</td>\n",
              "      <td>Amazon Basics\\t</td>\n",
              "      <td>Yellow</td>\n",
              "      <td>us</td>\n",
              "      <td>Amazon Basics Woodcased #2 Pencils, Unsharpene...</td>\n",
              "    </tr>\n",
              "    <tr>\n",
              "      <th>1</th>\n",
              "      <td>B075VXJ9VG</td>\n",
              "      <td>BAZIC Pencil #2 HB Pencils, Latex Free Eraser</td>\n",
              "      <td>&lt;p&gt;&lt;strong&gt;BACK TO BAZIC&lt;/strong&gt;&lt;/p&gt;&lt;p&gt;Our go</td>\n",
              "      <td>&amp;#11088; UN-SHARPENED #2 PREMIUM PENCILS.</td>\n",
              "      <td>BAZIC Products\\t</td>\n",
              "      <td>12-count</td>\n",
              "      <td>us</td>\n",
              "      <td>BAZIC Pencil #2 HB Pencils, Latex Free Eraser,...</td>\n",
              "    </tr>\n",
              "  </tbody>\n",
              "</table>\n",
              "</div>\n",
              "      <button class=\"colab-df-convert\" onclick=\"convertToInteractive('df-c1b59175-702d-4609-bfb1-472f987b3b65')\"\n",
              "              title=\"Convert this dataframe to an interactive table.\"\n",
              "              style=\"display:none;\">\n",
              "        \n",
              "  <svg xmlns=\"http://www.w3.org/2000/svg\" height=\"24px\"viewBox=\"0 0 24 24\"\n",
              "       width=\"24px\">\n",
              "    <path d=\"M0 0h24v24H0V0z\" fill=\"none\"/>\n",
              "    <path d=\"M18.56 5.44l.94 2.06.94-2.06 2.06-.94-2.06-.94-.94-2.06-.94 2.06-2.06.94zm-11 1L8.5 8.5l.94-2.06 2.06-.94-2.06-.94L8.5 2.5l-.94 2.06-2.06.94zm10 10l.94 2.06.94-2.06 2.06-.94-2.06-.94-.94-2.06-.94 2.06-2.06.94z\"/><path d=\"M17.41 7.96l-1.37-1.37c-.4-.4-.92-.59-1.43-.59-.52 0-1.04.2-1.43.59L10.3 9.45l-7.72 7.72c-.78.78-.78 2.05 0 2.83L4 21.41c.39.39.9.59 1.41.59.51 0 1.02-.2 1.41-.59l7.78-7.78 2.81-2.81c.8-.78.8-2.07 0-2.86zM5.41 20L4 18.59l7.72-7.72 1.47 1.35L5.41 20z\"/>\n",
              "  </svg>\n",
              "      </button>\n",
              "      \n",
              "  <style>\n",
              "    .colab-df-container {\n",
              "      display:flex;\n",
              "      flex-wrap:wrap;\n",
              "      gap: 12px;\n",
              "    }\n",
              "\n",
              "    .colab-df-convert {\n",
              "      background-color: #E8F0FE;\n",
              "      border: none;\n",
              "      border-radius: 50%;\n",
              "      cursor: pointer;\n",
              "      display: none;\n",
              "      fill: #1967D2;\n",
              "      height: 32px;\n",
              "      padding: 0 0 0 0;\n",
              "      width: 32px;\n",
              "    }\n",
              "\n",
              "    .colab-df-convert:hover {\n",
              "      background-color: #E2EBFA;\n",
              "      box-shadow: 0px 1px 2px rgba(60, 64, 67, 0.3), 0px 1px 3px 1px rgba(60, 64, 67, 0.15);\n",
              "      fill: #174EA6;\n",
              "    }\n",
              "\n",
              "    [theme=dark] .colab-df-convert {\n",
              "      background-color: #3B4455;\n",
              "      fill: #D2E3FC;\n",
              "    }\n",
              "\n",
              "    [theme=dark] .colab-df-convert:hover {\n",
              "      background-color: #434B5C;\n",
              "      box-shadow: 0px 1px 3px 1px rgba(0, 0, 0, 0.15);\n",
              "      filter: drop-shadow(0px 1px 2px rgba(0, 0, 0, 0.3));\n",
              "      fill: #FFFFFF;\n",
              "    }\n",
              "  </style>\n",
              "\n",
              "      <script>\n",
              "        const buttonEl =\n",
              "          document.querySelector('#df-c1b59175-702d-4609-bfb1-472f987b3b65 button.colab-df-convert');\n",
              "        buttonEl.style.display =\n",
              "          google.colab.kernel.accessAllowed ? 'block' : 'none';\n",
              "\n",
              "        async function convertToInteractive(key) {\n",
              "          const element = document.querySelector('#df-c1b59175-702d-4609-bfb1-472f987b3b65');\n",
              "          const dataTable =\n",
              "            await google.colab.kernel.invokeFunction('convertToInteractive',\n",
              "                                                     [key], {});\n",
              "          if (!dataTable) return;\n",
              "\n",
              "          const docLinkHtml = 'Like what you see? Visit the ' +\n",
              "            '<a target=\"_blank\" href=https://colab.research.google.com/notebooks/data_table.ipynb>data table notebook</a>'\n",
              "            + ' to learn more about interactive tables.';\n",
              "          element.innerHTML = '';\n",
              "          dataTable['output_type'] = 'display_data';\n",
              "          await google.colab.output.renderOutput(dataTable, element);\n",
              "          const docLink = document.createElement('div');\n",
              "          docLink.innerHTML = docLinkHtml;\n",
              "          element.appendChild(docLink);\n",
              "        }\n",
              "      </script>\n",
              "    </div>\n",
              "  </div>\n",
              "  "
            ]
          },
          "metadata": {},
          "execution_count": 142
        }
      ]
    },
    {
      "cell_type": "markdown",
      "source": [
        "Makes a new column in df to place the String Splits"
      ],
      "metadata": {
        "id": "6cPI4vcOsIMO"
      }
    },
    {
      "cell_type": "code",
      "source": [
        "df['Split_String'] = \"\"\n"
      ],
      "metadata": {
        "id": "6ecH1qkTloxg"
      },
      "execution_count": 143,
      "outputs": []
    },
    {
      "cell_type": "markdown",
      "source": [
        "Inputting the values"
      ],
      "metadata": {
        "id": "VtpKMPvDsOdi"
      }
    },
    {
      "cell_type": "code",
      "source": [
        "X = df[\"Split_String\"]\n",
        "\n",
        "i = 0\n",
        "while i < len(X): #change 10 to length of dataframe\n",
        "  X[i] = broken_text[i]\n",
        "  i+=1\n",
        "df\n"
      ],
      "metadata": {
        "id": "RXGB0muwniRd",
        "colab": {
          "base_uri": "https://localhost:8080/",
          "height": 315
        },
        "outputId": "8d161fb0-15c0-4661-bd74-58136b535f95"
      },
      "execution_count": 144,
      "outputs": [
        {
          "output_type": "execute_result",
          "data": {
            "text/plain": [
              "   product_id                                    product_title  \\\n",
              "0  B0188A3QRM  Amazon Basics Woodcased #2 Pencils, Unsharpened   \n",
              "1  B075VXJ9VG    BAZIC Pencil #2 HB Pencils, Latex Free Eraser   \n",
              "\n",
              "                              product_description  \\\n",
              "0                                             NaN   \n",
              "1  <p><strong>BACK TO BAZIC</strong></p><p>Our go   \n",
              "\n",
              "                                product_bullet_point     product_brand  \\\n",
              "0  144 woodcase #2 HB pencils made from high-quality   Amazon Basics\\t   \n",
              "1          &#11088; UN-SHARPENED #2 PREMIUM PENCILS.  BAZIC Products\\t   \n",
              "\n",
              "  product_color_name product_locale  \\\n",
              "0             Yellow             us   \n",
              "1           12-count             us   \n",
              "\n",
              "                                            Combined  \\\n",
              "0  Amazon Basics Woodcased #2 Pencils, Unsharpene...   \n",
              "1  BAZIC Pencil #2 HB Pencils, Latex Free Eraser,...   \n",
              "\n",
              "                                        Split_String  \n",
              "0  [Amazon Basics Woodcased #2 Pencils, Unsharpen...  \n",
              "1  [BAZIC Pencil #2 HB Pencils, Latex Free Eraser...  "
            ],
            "text/html": [
              "\n",
              "  <div id=\"df-c810ad99-0f9f-4807-a203-f548f9d783ce\">\n",
              "    <div class=\"colab-df-container\">\n",
              "      <div>\n",
              "<style scoped>\n",
              "    .dataframe tbody tr th:only-of-type {\n",
              "        vertical-align: middle;\n",
              "    }\n",
              "\n",
              "    .dataframe tbody tr th {\n",
              "        vertical-align: top;\n",
              "    }\n",
              "\n",
              "    .dataframe thead th {\n",
              "        text-align: right;\n",
              "    }\n",
              "</style>\n",
              "<table border=\"1\" class=\"dataframe\">\n",
              "  <thead>\n",
              "    <tr style=\"text-align: right;\">\n",
              "      <th></th>\n",
              "      <th>product_id</th>\n",
              "      <th>product_title</th>\n",
              "      <th>product_description</th>\n",
              "      <th>product_bullet_point</th>\n",
              "      <th>product_brand</th>\n",
              "      <th>product_color_name</th>\n",
              "      <th>product_locale</th>\n",
              "      <th>Combined</th>\n",
              "      <th>Split_String</th>\n",
              "    </tr>\n",
              "  </thead>\n",
              "  <tbody>\n",
              "    <tr>\n",
              "      <th>0</th>\n",
              "      <td>B0188A3QRM</td>\n",
              "      <td>Amazon Basics Woodcased #2 Pencils, Unsharpened</td>\n",
              "      <td>NaN</td>\n",
              "      <td>144 woodcase #2 HB pencils made from high-quality</td>\n",
              "      <td>Amazon Basics\\t</td>\n",
              "      <td>Yellow</td>\n",
              "      <td>us</td>\n",
              "      <td>Amazon Basics Woodcased #2 Pencils, Unsharpene...</td>\n",
              "      <td>[Amazon Basics Woodcased #2 Pencils, Unsharpen...</td>\n",
              "    </tr>\n",
              "    <tr>\n",
              "      <th>1</th>\n",
              "      <td>B075VXJ9VG</td>\n",
              "      <td>BAZIC Pencil #2 HB Pencils, Latex Free Eraser</td>\n",
              "      <td>&lt;p&gt;&lt;strong&gt;BACK TO BAZIC&lt;/strong&gt;&lt;/p&gt;&lt;p&gt;Our go</td>\n",
              "      <td>&amp;#11088; UN-SHARPENED #2 PREMIUM PENCILS.</td>\n",
              "      <td>BAZIC Products\\t</td>\n",
              "      <td>12-count</td>\n",
              "      <td>us</td>\n",
              "      <td>BAZIC Pencil #2 HB Pencils, Latex Free Eraser,...</td>\n",
              "      <td>[BAZIC Pencil #2 HB Pencils, Latex Free Eraser...</td>\n",
              "    </tr>\n",
              "  </tbody>\n",
              "</table>\n",
              "</div>\n",
              "      <button class=\"colab-df-convert\" onclick=\"convertToInteractive('df-c810ad99-0f9f-4807-a203-f548f9d783ce')\"\n",
              "              title=\"Convert this dataframe to an interactive table.\"\n",
              "              style=\"display:none;\">\n",
              "        \n",
              "  <svg xmlns=\"http://www.w3.org/2000/svg\" height=\"24px\"viewBox=\"0 0 24 24\"\n",
              "       width=\"24px\">\n",
              "    <path d=\"M0 0h24v24H0V0z\" fill=\"none\"/>\n",
              "    <path d=\"M18.56 5.44l.94 2.06.94-2.06 2.06-.94-2.06-.94-.94-2.06-.94 2.06-2.06.94zm-11 1L8.5 8.5l.94-2.06 2.06-.94-2.06-.94L8.5 2.5l-.94 2.06-2.06.94zm10 10l.94 2.06.94-2.06 2.06-.94-2.06-.94-.94-2.06-.94 2.06-2.06.94z\"/><path d=\"M17.41 7.96l-1.37-1.37c-.4-.4-.92-.59-1.43-.59-.52 0-1.04.2-1.43.59L10.3 9.45l-7.72 7.72c-.78.78-.78 2.05 0 2.83L4 21.41c.39.39.9.59 1.41.59.51 0 1.02-.2 1.41-.59l7.78-7.78 2.81-2.81c.8-.78.8-2.07 0-2.86zM5.41 20L4 18.59l7.72-7.72 1.47 1.35L5.41 20z\"/>\n",
              "  </svg>\n",
              "      </button>\n",
              "      \n",
              "  <style>\n",
              "    .colab-df-container {\n",
              "      display:flex;\n",
              "      flex-wrap:wrap;\n",
              "      gap: 12px;\n",
              "    }\n",
              "\n",
              "    .colab-df-convert {\n",
              "      background-color: #E8F0FE;\n",
              "      border: none;\n",
              "      border-radius: 50%;\n",
              "      cursor: pointer;\n",
              "      display: none;\n",
              "      fill: #1967D2;\n",
              "      height: 32px;\n",
              "      padding: 0 0 0 0;\n",
              "      width: 32px;\n",
              "    }\n",
              "\n",
              "    .colab-df-convert:hover {\n",
              "      background-color: #E2EBFA;\n",
              "      box-shadow: 0px 1px 2px rgba(60, 64, 67, 0.3), 0px 1px 3px 1px rgba(60, 64, 67, 0.15);\n",
              "      fill: #174EA6;\n",
              "    }\n",
              "\n",
              "    [theme=dark] .colab-df-convert {\n",
              "      background-color: #3B4455;\n",
              "      fill: #D2E3FC;\n",
              "    }\n",
              "\n",
              "    [theme=dark] .colab-df-convert:hover {\n",
              "      background-color: #434B5C;\n",
              "      box-shadow: 0px 1px 3px 1px rgba(0, 0, 0, 0.15);\n",
              "      filter: drop-shadow(0px 1px 2px rgba(0, 0, 0, 0.3));\n",
              "      fill: #FFFFFF;\n",
              "    }\n",
              "  </style>\n",
              "\n",
              "      <script>\n",
              "        const buttonEl =\n",
              "          document.querySelector('#df-c810ad99-0f9f-4807-a203-f548f9d783ce button.colab-df-convert');\n",
              "        buttonEl.style.display =\n",
              "          google.colab.kernel.accessAllowed ? 'block' : 'none';\n",
              "\n",
              "        async function convertToInteractive(key) {\n",
              "          const element = document.querySelector('#df-c810ad99-0f9f-4807-a203-f548f9d783ce');\n",
              "          const dataTable =\n",
              "            await google.colab.kernel.invokeFunction('convertToInteractive',\n",
              "                                                     [key], {});\n",
              "          if (!dataTable) return;\n",
              "\n",
              "          const docLinkHtml = 'Like what you see? Visit the ' +\n",
              "            '<a target=\"_blank\" href=https://colab.research.google.com/notebooks/data_table.ipynb>data table notebook</a>'\n",
              "            + ' to learn more about interactive tables.';\n",
              "          element.innerHTML = '';\n",
              "          dataTable['output_type'] = 'display_data';\n",
              "          await google.colab.output.renderOutput(dataTable, element);\n",
              "          const docLink = document.createElement('div');\n",
              "          docLink.innerHTML = docLinkHtml;\n",
              "          element.appendChild(docLink);\n",
              "        }\n",
              "      </script>\n",
              "    </div>\n",
              "  </div>\n",
              "  "
            ]
          },
          "metadata": {},
          "execution_count": 144
        }
      ]
    },
    {
      "cell_type": "markdown",
      "source": [
        "Getting Bert Numbers"
      ],
      "metadata": {
        "id": "tu7Vrm7rs9bT"
      }
    },
    {
      "cell_type": "code",
      "source": [
        "df['BERT Numbers'] = \"\""
      ],
      "metadata": {
        "id": "aopqkjnFuJQA"
      },
      "execution_count": 145,
      "outputs": []
    },
    {
      "cell_type": "code",
      "source": [
        "X = df[\"Split_String\"]\n",
        "Bert = df['BERT Numbers']\n",
        "\n",
        "i=0\n",
        "X = df[\"Split_String\"]\n",
        "while i < len(X):\n",
        "  embeddings=[]\n",
        "  for o in X[i]:\n",
        "    text = o\n",
        "    inputs = tokenizer(text, return_tensors=\"pt\")\n",
        "    inputs = {k:v.to(device) for k,v in inputs.items()}\n",
        "    with torch.no_grad():\n",
        "      outputs = model(**inputs)\n",
        "    embeddings.append(outputs.last_hidden_state)\n",
        "  Bert[i]= embeddings  \n",
        "  i+=1"
      ],
      "metadata": {
        "id": "K0CVzIJmwTGM"
      },
      "execution_count": 146,
      "outputs": []
    },
    {
      "cell_type": "code",
      "source": [
        "y = df['BERT Numbers']"
      ],
      "metadata": {
        "id": "UogasUG6v3dd"
      },
      "execution_count": 147,
      "outputs": []
    },
    {
      "cell_type": "code",
      "source": [
        "y"
      ],
      "metadata": {
        "colab": {
          "base_uri": "https://localhost:8080/"
        },
        "id": "IcIiLID7pRI8",
        "outputId": "e21c1336-0f29-4506-9dca-e1c1fbc5e0da"
      },
      "execution_count": 117,
      "outputs": [
        {
          "output_type": "execute_result",
          "data": {
            "text/plain": [
              "0    [[[tensor([-4.2097e-01, -3.5455e-01, -4.3772e-...\n",
              "1    [[[tensor([-3.0958e-01, -1.2243e-01, -1.3312e-...\n",
              "Name: BERT Numbers, dtype: object"
            ]
          },
          "metadata": {},
          "execution_count": 117
        }
      ]
    },
    {
      "cell_type": "markdown",
      "source": [
        "Each tensor matrix is different # of rows, but 768 columns. "
      ],
      "metadata": {
        "id": "aPff04Hqdjxr"
      }
    },
    {
      "cell_type": "code",
      "source": [
        "df['Mean of Bert'] = \"\""
      ],
      "metadata": {
        "id": "03hGIUxbe-3E"
      },
      "execution_count": 148,
      "outputs": []
    },
    {
      "cell_type": "code",
      "source": [
        "Means = df['Mean of Bert']\n",
        "i=0\n",
        "Averages = []\n",
        "while i < len(y): # num of rows in data set (y is the column of bert nums)\n",
        "  concated_means = []\n",
        "  j=0\n",
        "  while j < len(y[i]): # num of bert numbers per product. (sets of 512)\n",
        "    concated_means.append(torch.mean(y[i][j], dim=1))\n",
        "    j+=1\n",
        "  y_concats = torch.cat(concated_means)\n",
        "  y_avg = torch.mean(y_concats, dim = 0)\n",
        "  Means[i]= y_avg\n",
        "  i+=1\n"
      ],
      "metadata": {
        "id": "SaIhFEDRbnwx"
      },
      "execution_count": 165,
      "outputs": []
    },
    {
      "cell_type": "code",
      "source": [
        "y1=torch.mean(y[0][0], dim=1)\n",
        "y2=torch.mean(y[0][1], dim=1)\n",
        "y3=torch.mean(y[0][2], dim=1)\n",
        "\n",
        "y_avg = torch.cat([y1,y2,y3])\n",
        "y_avg = torch.mean(y_avg, dim = 0)\n"
      ],
      "metadata": {
        "id": "PUqXwPoZvXuw"
      },
      "execution_count": null,
      "outputs": []
    },
    {
      "cell_type": "markdown",
      "source": [
        "# Run This Below on Real DataSet"
      ],
      "metadata": {
        "id": "_wZAaL4op6Gg"
      }
    },
    {
      "cell_type": "code",
      "source": [
        "## STEP 1\n",
        "# First create column for concatting all description columns for products\n",
        "df['Combined'] = df['product_title'].astype(str) + ', ' + df['product_description'].astype(str) + ', ' + df['product_bullet_point'].astype(str)  + ', ' + df['product_brand'].astype(str) + ', ' + df['product_color_name'].astype(str) + ', ' + df['product_locale'].astype(str)\n",
        "df = pd.DataFrame(data=df)\n",
        "\n",
        "## STEP 2\n",
        "# Then break up each entry in the \"Combined\" column into sets of 512 characters\n",
        "df['Split_String'] = \"\"\n",
        "broken_text = []\n",
        "s = df['Combined']\n",
        "for text in s:\n",
        "  n = 512\n",
        "  a = [text[i:i+n] for i in range(0, len(text), n)]\n",
        "  broken_text.append(a)\n",
        "\n",
        "## STEP 3\n",
        "# Then i put it into another column \"Split_String\"(idk why) but in list form, so i can loop thru it\n",
        "X = df[\"Split_String\"]\n",
        "i = 0\n",
        "while i < len(X): #change 10 to length of dataframe\n",
        "  X[i] = broken_text[i]\n",
        "  i+=1\n",
        "\n",
        "## STEP 4: \n",
        "# calculating bert numbers for each set of 512 sets\n",
        "df['BERT Numbers'] = \"\"\n",
        "X = df[\"Split_String\"]\n",
        "Bert = df['BERT Numbers']\n",
        "\n",
        "i=0\n",
        "X = df[\"Split_String\"]\n",
        "while i < len(X):\n",
        "  embeddings=[]\n",
        "  for o in X[i]:\n",
        "    text = o\n",
        "    inputs = tokenizer(text, return_tensors=\"pt\")\n",
        "    inputs = {k:v.to(device) for k,v in inputs.items()}\n",
        "    with torch.no_grad():\n",
        "      outputs = model(**inputs)\n",
        "    embeddings.append(outputs.last_hidden_state)\n",
        "  Bert[i]= embeddings  \n",
        "  i+=1\n",
        "\n",
        "\n",
        "## STEP 5:\n",
        "# getting the averages and storing them in \"Mean of Bert\"\n",
        "y = df['BERT Numbers']\n",
        "df['Mean of Bert'] = \"\"\n",
        "\n",
        "Means = df['Mean of Bert']\n",
        "i=0\n",
        "Averages = []\n",
        "while i < len(y): # num of rows in data set (y is the column of bert nums)\n",
        "  concated_means = []\n",
        "  j=0\n",
        "  while j < len(y[i]): # num of bert numbers per product. (sets of 512)\n",
        "    concated_means.append(torch.mean(y[i][j], dim=1))\n",
        "    j+=1\n",
        "  y_concats = torch.cat(concated_means)\n",
        "  y_avg = torch.mean(y_concats, dim = 0)\n",
        "  Means[i]= y_avg\n",
        "  i+=1\n",
        "\n",
        "\n",
        "\n",
        "\n"
      ],
      "metadata": {
        "id": "0EWYzqsfpFco"
      },
      "execution_count": null,
      "outputs": []
    }
  ]
}